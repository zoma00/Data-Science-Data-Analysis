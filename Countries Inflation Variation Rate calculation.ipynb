{
 "cells": [
  {
   "cell_type": "code",
   "execution_count": 76,
   "id": "6ac43ef7",
   "metadata": {},
   "outputs": [],
   "source": [
    "import pandas as pd\n",
    "import numpy as np\n",
    "import matplotlib.pyplot as plt\n",
    "import seaborn as sns\n",
    "import plotly.graph_objects as px\n",
    "import plotly.express as px \n",
    "\n",
    "import os \n",
    "from sklearn.model_selection import train_test_split\n",
    "from sklearn.linear_model import LinearRegression\n",
    "from sklearn.metrics import mean_absolute_error \n",
    "from sklearn.metrics import mean_squared_error \n",
    "from sklearn.metrics import median_absolute_error"
   ]
  },
  {
   "cell_type": "markdown",
   "id": "9c4eb1da",
   "metadata": {},
   "source": [
    "## Loading dataset"
   ]
  },
  {
   "cell_type": "code",
   "execution_count": 77,
   "id": "8c7dd333",
   "metadata": {},
   "outputs": [],
   "source": [
    "df = pd.read_csv('Inflation Variaton Rate.csv', encoding='ISO-8859-1')"
   ]
  },
  {
   "cell_type": "code",
   "execution_count": 78,
   "id": "578ff6d0",
   "metadata": {
    "scrolled": true
   },
   "outputs": [
    {
     "data": {
      "text/html": [
       "<div>\n",
       "<style scoped>\n",
       "    .dataframe tbody tr th:only-of-type {\n",
       "        vertical-align: middle;\n",
       "    }\n",
       "\n",
       "    .dataframe tbody tr th {\n",
       "        vertical-align: top;\n",
       "    }\n",
       "\n",
       "    .dataframe thead th {\n",
       "        text-align: right;\n",
       "    }\n",
       "</style>\n",
       "<table border=\"1\" class=\"dataframe\">\n",
       "  <thead>\n",
       "    <tr style=\"text-align: right;\">\n",
       "      <th></th>\n",
       "      <th>country</th>\n",
       "      <th>Consumer Price Index</th>\n",
       "      <th>currency</th>\n",
       "      <th>from</th>\n",
       "      <th>End Date:</th>\n",
       "      <th>1 year variation in %</th>\n",
       "      <th>1 month variation in %</th>\n",
       "    </tr>\n",
       "  </thead>\n",
       "  <tbody>\n",
       "    <tr>\n",
       "      <th>0</th>\n",
       "      <td>Argentina</td>\n",
       "      <td>Argentina CPI (Indec)</td>\n",
       "      <td>ARS-Argentine peso</td>\n",
       "      <td>1/31/2003</td>\n",
       "      <td>3/31/2023</td>\n",
       "      <td>1.04</td>\n",
       "      <td>0.08</td>\n",
       "    </tr>\n",
       "    <tr>\n",
       "      <th>1</th>\n",
       "      <td>Austria</td>\n",
       "      <td>Austrian CPI (Statistik Austria (Vienna))</td>\n",
       "      <td>ATS-Austrian shilling</td>\n",
       "      <td>12/31/1958</td>\n",
       "      <td>3/31/2023</td>\n",
       "      <td>0.09</td>\n",
       "      <td>0.01</td>\n",
       "    </tr>\n",
       "    <tr>\n",
       "      <th>2</th>\n",
       "      <td>Australia</td>\n",
       "      <td>Australian CPI (ABS)</td>\n",
       "      <td>AUD-Australian dollar</td>\n",
       "      <td>9/30/1948</td>\n",
       "      <td>3/31/2023</td>\n",
       "      <td>0.07</td>\n",
       "      <td>0.00</td>\n",
       "    </tr>\n",
       "    <tr>\n",
       "      <th>3</th>\n",
       "      <td>Belgium</td>\n",
       "      <td>Belgian CPI (Directorate-general Statistics an...</td>\n",
       "      <td>BEF-Belgian franc</td>\n",
       "      <td>12/31/1955</td>\n",
       "      <td>4/30/2023</td>\n",
       "      <td>0.06</td>\n",
       "      <td>-0.01</td>\n",
       "    </tr>\n",
       "    <tr>\n",
       "      <th>4</th>\n",
       "      <td>Brazil</td>\n",
       "      <td>Brazilian CPI (Instituto Brasileiro de Geograf...</td>\n",
       "      <td>BRL-Brazilian real</td>\n",
       "      <td>1/31/1985</td>\n",
       "      <td>3/31/2023</td>\n",
       "      <td>0.05</td>\n",
       "      <td>0.01</td>\n",
       "    </tr>\n",
       "    <tr>\n",
       "      <th>5</th>\n",
       "      <td>Canada</td>\n",
       "      <td>Canadian CPI (Statistics canada)</td>\n",
       "      <td>CAD-Canadian dollar</td>\n",
       "      <td>1/31/1989</td>\n",
       "      <td>3/31/2023</td>\n",
       "      <td>0.04</td>\n",
       "      <td>0.01</td>\n",
       "    </tr>\n",
       "    <tr>\n",
       "      <th>6</th>\n",
       "      <td>Switzerland</td>\n",
       "      <td>Swiss CPI (Bundesamt f??r Statistik)</td>\n",
       "      <td>CHF-Swiss franc</td>\n",
       "      <td>1/31/1983</td>\n",
       "      <td>3/31/2023</td>\n",
       "      <td>0.03</td>\n",
       "      <td>0.00</td>\n",
       "    </tr>\n",
       "    <tr>\n",
       "      <th>7</th>\n",
       "      <td>Chile</td>\n",
       "      <td>Chile CPI (Chile - National Statistics Institute)</td>\n",
       "      <td>CLP-Chilean peso</td>\n",
       "      <td>12/31/1970</td>\n",
       "      <td>3/31/2023</td>\n",
       "      <td>0.11</td>\n",
       "      <td>0.01</td>\n",
       "    </tr>\n",
       "    <tr>\n",
       "      <th>8</th>\n",
       "      <td>Morocco</td>\n",
       "      <td>Moroccan CPI (Haut Commissariat au Plan du Maroc)</td>\n",
       "      <td>MAD-Moroccan dirham</td>\n",
       "      <td>11/30/2008</td>\n",
       "      <td>3/31/2023</td>\n",
       "      <td>0.09</td>\n",
       "      <td>0.00</td>\n",
       "    </tr>\n",
       "    <tr>\n",
       "      <th>9</th>\n",
       "      <td>Czech Republic</td>\n",
       "      <td>Czech CPI (Czech Republic - Czech Statistical ...</td>\n",
       "      <td>CZK-Czech koruna</td>\n",
       "      <td>12/31/1991</td>\n",
       "      <td>3/31/2023</td>\n",
       "      <td>0.15</td>\n",
       "      <td>0.00</td>\n",
       "    </tr>\n",
       "    <tr>\n",
       "      <th>10</th>\n",
       "      <td>Germany</td>\n",
       "      <td>German CPI (Statistisches Bundesamt)</td>\n",
       "      <td>DEM-German Deutsche mark</td>\n",
       "      <td>1/31/1991</td>\n",
       "      <td>3/31/2023</td>\n",
       "      <td>0.07</td>\n",
       "      <td>0.01</td>\n",
       "    </tr>\n",
       "    <tr>\n",
       "      <th>11</th>\n",
       "      <td>Denmark</td>\n",
       "      <td>Danish CPI (Danmark - Danmarks Statistik)</td>\n",
       "      <td>DKK-Danish krone</td>\n",
       "      <td>12/31/1967</td>\n",
       "      <td>3/31/2023</td>\n",
       "      <td>0.07</td>\n",
       "      <td>0.00</td>\n",
       "    </tr>\n",
       "    <tr>\n",
       "      <th>12</th>\n",
       "      <td>Algeria</td>\n",
       "      <td>CPI in Algiers (Office National des Statistiqu...</td>\n",
       "      <td>DZD-Algerian dinar</td>\n",
       "      <td>6/30/1969</td>\n",
       "      <td>2/28/2023</td>\n",
       "      <td>0.10</td>\n",
       "      <td>0.01</td>\n",
       "    </tr>\n",
       "    <tr>\n",
       "      <th>13</th>\n",
       "      <td>Estonia</td>\n",
       "      <td>Estonia CPI (Estonia - Statistics Estonia)</td>\n",
       "      <td>EEK-Estonian kroon</td>\n",
       "      <td>12/31/1998</td>\n",
       "      <td>3/31/2023</td>\n",
       "      <td>0.18</td>\n",
       "      <td>0.01</td>\n",
       "    </tr>\n",
       "    <tr>\n",
       "      <th>14</th>\n",
       "      <td>Egypt</td>\n",
       "      <td>Headline CPI in Egypt (Central Bank of Egypt)</td>\n",
       "      <td>EGP-Egyptian pound</td>\n",
       "      <td>12/31/1959</td>\n",
       "      <td>3/31/2023</td>\n",
       "      <td>0.33</td>\n",
       "      <td>0.03</td>\n",
       "    </tr>\n",
       "    <tr>\n",
       "      <th>15</th>\n",
       "      <td>Spain</td>\n",
       "      <td>Spanish CPI (Spain - Instituto Nacional de Est...</td>\n",
       "      <td>ESP-Spanish peseta</td>\n",
       "      <td>12/31/1955</td>\n",
       "      <td>3/31/2023</td>\n",
       "      <td>0.03</td>\n",
       "      <td>0.00</td>\n",
       "    </tr>\n",
       "    <tr>\n",
       "      <th>16</th>\n",
       "      <td>European Union</td>\n",
       "      <td>Euro zone CPI (European Union (Eurostat))</td>\n",
       "      <td>EUR-Euro</td>\n",
       "      <td>1/31/1990</td>\n",
       "      <td>3/31/2023</td>\n",
       "      <td>0.07</td>\n",
       "      <td>0.01</td>\n",
       "    </tr>\n",
       "    <tr>\n",
       "      <th>17</th>\n",
       "      <td>Finland</td>\n",
       "      <td>Finnish CPI (Finland - Statistics Finland)</td>\n",
       "      <td>FIM-Finnish markka</td>\n",
       "      <td>12/31/1955</td>\n",
       "      <td>3/31/2023</td>\n",
       "      <td>0.08</td>\n",
       "      <td>0.01</td>\n",
       "    </tr>\n",
       "    <tr>\n",
       "      <th>18</th>\n",
       "      <td>France</td>\n",
       "      <td>Indice des prix ?á la consommation (IPC) (INSEE)</td>\n",
       "      <td>FRF-French franc</td>\n",
       "      <td>1/31/2001</td>\n",
       "      <td>3/31/2023</td>\n",
       "      <td>0.06</td>\n",
       "      <td>0.01</td>\n",
       "    </tr>\n",
       "    <tr>\n",
       "      <th>19</th>\n",
       "      <td>Greece</td>\n",
       "      <td>Greek CPI (Greece - Hellenic statistical autho...</td>\n",
       "      <td>GRD-Greek drachma</td>\n",
       "      <td>12/31/1955</td>\n",
       "      <td>3/31/2023</td>\n",
       "      <td>0.05</td>\n",
       "      <td>0.01</td>\n",
       "    </tr>\n",
       "    <tr>\n",
       "      <th>20</th>\n",
       "      <td>Hungary</td>\n",
       "      <td>hungarian CPI (Hungary - Hungarian Central Sta...</td>\n",
       "      <td>HUF-Hungarian forint</td>\n",
       "      <td>12/31/1980</td>\n",
       "      <td>3/31/2023</td>\n",
       "      <td>0.25</td>\n",
       "      <td>0.01</td>\n",
       "    </tr>\n",
       "    <tr>\n",
       "      <th>21</th>\n",
       "      <td>Indonesia</td>\n",
       "      <td>Indonesian CPI (Badan Pusat Statistik)</td>\n",
       "      <td>IDR-Indonesian rupiah</td>\n",
       "      <td>1/31/1968</td>\n",
       "      <td>3/31/2023</td>\n",
       "      <td>0.05</td>\n",
       "      <td>0.00</td>\n",
       "    </tr>\n",
       "    <tr>\n",
       "      <th>22</th>\n",
       "      <td>Ireland</td>\n",
       "      <td>Irish CPI (Ireland - Central Statistics Office...</td>\n",
       "      <td>IEP-Irish punt</td>\n",
       "      <td>12/31/1976</td>\n",
       "      <td>3/31/2023</td>\n",
       "      <td>0.08</td>\n",
       "      <td>0.01</td>\n",
       "    </tr>\n",
       "    <tr>\n",
       "      <th>23</th>\n",
       "      <td>Israel</td>\n",
       "      <td>Israeli CPI (Israel - Central Bureau of Statis...</td>\n",
       "      <td>ILS-Israeli new shekel</td>\n",
       "      <td>12/31/1970</td>\n",
       "      <td>3/31/2023</td>\n",
       "      <td>0.05</td>\n",
       "      <td>0.00</td>\n",
       "    </tr>\n",
       "    <tr>\n",
       "      <th>24</th>\n",
       "      <td>India</td>\n",
       "      <td>Indian CPI (Ministry of Statistics and Program...</td>\n",
       "      <td>INR-Indian rupee</td>\n",
       "      <td>1/31/1957</td>\n",
       "      <td>3/31/2023</td>\n",
       "      <td>0.06</td>\n",
       "      <td>0.00</td>\n",
       "    </tr>\n",
       "    <tr>\n",
       "      <th>25</th>\n",
       "      <td>Iceland</td>\n",
       "      <td>Iceland CPI (Statistics Iceland)</td>\n",
       "      <td>ISK-Icelandic króna</td>\n",
       "      <td>12/31/1975</td>\n",
       "      <td>3/31/2023</td>\n",
       "      <td>0.10</td>\n",
       "      <td>0.01</td>\n",
       "    </tr>\n",
       "    <tr>\n",
       "      <th>26</th>\n",
       "      <td>Italy</td>\n",
       "      <td>Italian CPI (Istituto Nazionale di Statistica)</td>\n",
       "      <td>ITL-Italian lira</td>\n",
       "      <td>17 March 1861</td>\n",
       "      <td>3/31/2023</td>\n",
       "      <td>0.08</td>\n",
       "      <td>0.00</td>\n",
       "    </tr>\n",
       "    <tr>\n",
       "      <th>27</th>\n",
       "      <td>Japan</td>\n",
       "      <td>Japan CPI (Japan Statistics Bureau)</td>\n",
       "      <td>JPY-Japanese yen</td>\n",
       "      <td>1/31/1970</td>\n",
       "      <td>3/31/2023</td>\n",
       "      <td>0.03</td>\n",
       "      <td>0.00</td>\n",
       "    </tr>\n",
       "    <tr>\n",
       "      <th>28</th>\n",
       "      <td>Kenya</td>\n",
       "      <td>CPI in Kenya (Kenya National Bureau of Statist...</td>\n",
       "      <td>KES-Kenyan shilling</td>\n",
       "      <td>12/31/1961</td>\n",
       "      <td>3/31/2023</td>\n",
       "      <td>0.09</td>\n",
       "      <td>0.01</td>\n",
       "    </tr>\n",
       "    <tr>\n",
       "      <th>29</th>\n",
       "      <td>South Korea</td>\n",
       "      <td>South Korea CPI (Statistics Korea)</td>\n",
       "      <td>KRW-South Korean won</td>\n",
       "      <td>1/31/1952</td>\n",
       "      <td>4/30/2023</td>\n",
       "      <td>0.04</td>\n",
       "      <td>0.00</td>\n",
       "    </tr>\n",
       "    <tr>\n",
       "      <th>30</th>\n",
       "      <td>Luxembourg</td>\n",
       "      <td>Luxembourg CPI (Luxembourg - Service Central d...</td>\n",
       "      <td>LUF-Luxembourg franc</td>\n",
       "      <td>12/31/1955</td>\n",
       "      <td>3/31/2023</td>\n",
       "      <td>0.04</td>\n",
       "      <td>0.00</td>\n",
       "    </tr>\n",
       "    <tr>\n",
       "      <th>31</th>\n",
       "      <td>Mexico</td>\n",
       "      <td>Mexican CPI (Instituto Nacional de Estadistics...</td>\n",
       "      <td>MXN-Mexican peso</td>\n",
       "      <td>1/31/1969</td>\n",
       "      <td>3/31/2023</td>\n",
       "      <td>0.07</td>\n",
       "      <td>0.00</td>\n",
       "    </tr>\n",
       "    <tr>\n",
       "      <th>32</th>\n",
       "      <td>Malaysia</td>\n",
       "      <td>Malaysia CPI (Department of Statistics, Malaysia)</td>\n",
       "      <td>MYR-Malaysian ringgit</td>\n",
       "      <td>6/30/1980</td>\n",
       "      <td>3/31/2023</td>\n",
       "      <td>0.03</td>\n",
       "      <td>0.00</td>\n",
       "    </tr>\n",
       "    <tr>\n",
       "      <th>33</th>\n",
       "      <td>Netherlands</td>\n",
       "      <td>Dutch CPI (The Netherlands - Centraal Bureau v...</td>\n",
       "      <td>NLG-Netherlands guilder</td>\n",
       "      <td>12/31/1961</td>\n",
       "      <td>3/31/2023</td>\n",
       "      <td>0.04</td>\n",
       "      <td>0.00</td>\n",
       "    </tr>\n",
       "    <tr>\n",
       "      <th>34</th>\n",
       "      <td>Norway</td>\n",
       "      <td>Norvegian CPI (Norway - Statistics Norway)</td>\n",
       "      <td>NOK-Norwegian krone</td>\n",
       "      <td>12/31/1955</td>\n",
       "      <td>3/31/2023</td>\n",
       "      <td>0.07</td>\n",
       "      <td>0.01</td>\n",
       "    </tr>\n",
       "    <tr>\n",
       "      <th>35</th>\n",
       "      <td>New Zealand</td>\n",
       "      <td>New Zealand CPI (Stats NZ)</td>\n",
       "      <td>NZD-New Zealand dollar</td>\n",
       "      <td>3/31/2000</td>\n",
       "      <td>3/31/2023</td>\n",
       "      <td>0.07</td>\n",
       "      <td>0.00</td>\n",
       "    </tr>\n",
       "    <tr>\n",
       "      <th>36</th>\n",
       "      <td>Poland</td>\n",
       "      <td>Polish CPI (Poland - Central Statistical Offic...</td>\n",
       "      <td>PLN-Polish zloty</td>\n",
       "      <td>12/31/1989</td>\n",
       "      <td>3/31/2023</td>\n",
       "      <td>0.17</td>\n",
       "      <td>0.01</td>\n",
       "    </tr>\n",
       "    <tr>\n",
       "      <th>37</th>\n",
       "      <td>Portugal</td>\n",
       "      <td>Portuguese CPI (Portugal - Instituto Nacional ...</td>\n",
       "      <td>PTE-Portguese escudo</td>\n",
       "      <td>12/31/1955</td>\n",
       "      <td>3/31/2023</td>\n",
       "      <td>0.07</td>\n",
       "      <td>0.02</td>\n",
       "    </tr>\n",
       "    <tr>\n",
       "      <th>38</th>\n",
       "      <td>Russian Federation</td>\n",
       "      <td>Russian CPI (Russian Federal State Statistics ...</td>\n",
       "      <td>RUB-Russian ruble</td>\n",
       "      <td>1/31/1992</td>\n",
       "      <td>3/31/2023</td>\n",
       "      <td>0.04</td>\n",
       "      <td>0.00</td>\n",
       "    </tr>\n",
       "    <tr>\n",
       "      <th>39</th>\n",
       "      <td>Sweden</td>\n",
       "      <td>Swedish CPI (Statistics Sweden (SCB))</td>\n",
       "      <td>SEK-Swedish krona</td>\n",
       "      <td>1/31/1955</td>\n",
       "      <td>3/31/2023</td>\n",
       "      <td>0.11</td>\n",
       "      <td>0.01</td>\n",
       "    </tr>\n",
       "    <tr>\n",
       "      <th>40</th>\n",
       "      <td>Slovakia</td>\n",
       "      <td>Slovak CPI (Slovakia - Statistical Office of t...</td>\n",
       "      <td>SKK-Slovak koruna</td>\n",
       "      <td>12/31/1991</td>\n",
       "      <td>3/31/2023</td>\n",
       "      <td>0.15</td>\n",
       "      <td>0.01</td>\n",
       "    </tr>\n",
       "    <tr>\n",
       "      <th>41</th>\n",
       "      <td>Slovenia</td>\n",
       "      <td>Slovenian CPI (Slovenia - Statistical Office o...</td>\n",
       "      <td>SIT-Slovenian tolar</td>\n",
       "      <td>12/31/1980</td>\n",
       "      <td>3/31/2023</td>\n",
       "      <td>0.11</td>\n",
       "      <td>0.00</td>\n",
       "    </tr>\n",
       "    <tr>\n",
       "      <th>42</th>\n",
       "      <td>Thailand</td>\n",
       "      <td>TH CPI (Bureau of Trade and Economic indices)</td>\n",
       "      <td>THB-Thai baht</td>\n",
       "      <td>1/31/1976</td>\n",
       "      <td>3/31/2023</td>\n",
       "      <td>0.03</td>\n",
       "      <td>0.00</td>\n",
       "    </tr>\n",
       "    <tr>\n",
       "      <th>43</th>\n",
       "      <td>Tunisia</td>\n",
       "      <td>CPI in Tunisia (Institut National des Statisti...</td>\n",
       "      <td>TND-Tunisian dinar</td>\n",
       "      <td>12/31/1983</td>\n",
       "      <td>3/31/2023</td>\n",
       "      <td>0.10</td>\n",
       "      <td>0.01</td>\n",
       "    </tr>\n",
       "    <tr>\n",
       "      <th>44</th>\n",
       "      <td>Turkey</td>\n",
       "      <td>Turkish CPI (Turkey - Turkish Statistical Inst...</td>\n",
       "      <td>TRY-Turkish lira</td>\n",
       "      <td>12/31/1955</td>\n",
       "      <td>3/31/2023</td>\n",
       "      <td>0.51</td>\n",
       "      <td>0.02</td>\n",
       "    </tr>\n",
       "    <tr>\n",
       "      <th>45</th>\n",
       "      <td>Great Britain - UK</td>\n",
       "      <td>UK CPI (Office for National Statistics (ONS))</td>\n",
       "      <td>GBP-Pound sterling</td>\n",
       "      <td>30 June 1688</td>\n",
       "      <td>3/31/2023</td>\n",
       "      <td>0.09</td>\n",
       "      <td>0.01</td>\n",
       "    </tr>\n",
       "    <tr>\n",
       "      <th>46</th>\n",
       "      <td>United States</td>\n",
       "      <td>US CPI (Bureau of Labor Statistics)</td>\n",
       "      <td>USD-US dollar</td>\n",
       "      <td>1/31/2013</td>\n",
       "      <td>3/31/2023</td>\n",
       "      <td>0.05</td>\n",
       "      <td>0.00</td>\n",
       "    </tr>\n",
       "    <tr>\n",
       "      <th>47</th>\n",
       "      <td>South Africa</td>\n",
       "      <td>South African CPI (Statistics South Africa)</td>\n",
       "      <td>ZAR-South African rand</td>\n",
       "      <td>1/31/1957</td>\n",
       "      <td>3/31/2023</td>\n",
       "      <td>0.07</td>\n",
       "      <td>0.01</td>\n",
       "    </tr>\n",
       "    <tr>\n",
       "      <th>48</th>\n",
       "      <td>China</td>\n",
       "      <td>Chinese CPI (OECD)</td>\n",
       "      <td>CNY-Chinese yuan renminbi (RMB)</td>\n",
       "      <td>1/31/1993</td>\n",
       "      <td>3/31/2023</td>\n",
       "      <td>0.01</td>\n",
       "      <td>0.00</td>\n",
       "    </tr>\n",
       "  </tbody>\n",
       "</table>\n",
       "</div>"
      ],
      "text/plain": [
       "               country                               Consumer Price Index  \\\n",
       "0            Argentina                              Argentina CPI (Indec)   \n",
       "1              Austria          Austrian CPI (Statistik Austria (Vienna))   \n",
       "2            Australia                               Australian CPI (ABS)   \n",
       "3              Belgium  Belgian CPI (Directorate-general Statistics an...   \n",
       "4               Brazil  Brazilian CPI (Instituto Brasileiro de Geograf...   \n",
       "5               Canada                   Canadian CPI (Statistics canada)   \n",
       "6          Switzerland               Swiss CPI (Bundesamt f??r Statistik)   \n",
       "7                Chile  Chile CPI (Chile - National Statistics Institute)   \n",
       "8              Morocco  Moroccan CPI (Haut Commissariat au Plan du Maroc)   \n",
       "9       Czech Republic  Czech CPI (Czech Republic - Czech Statistical ...   \n",
       "10             Germany               German CPI (Statistisches Bundesamt)   \n",
       "11             Denmark          Danish CPI (Danmark - Danmarks Statistik)   \n",
       "12             Algeria  CPI in Algiers (Office National des Statistiqu...   \n",
       "13             Estonia         Estonia CPI (Estonia - Statistics Estonia)   \n",
       "14               Egypt      Headline CPI in Egypt (Central Bank of Egypt)   \n",
       "15               Spain  Spanish CPI (Spain - Instituto Nacional de Est...   \n",
       "16      European Union          Euro zone CPI (European Union (Eurostat))   \n",
       "17             Finland         Finnish CPI (Finland - Statistics Finland)   \n",
       "18              France   Indice des prix ?á la consommation (IPC) (INSEE)   \n",
       "19              Greece  Greek CPI (Greece - Hellenic statistical autho...   \n",
       "20             Hungary  hungarian CPI (Hungary - Hungarian Central Sta...   \n",
       "21           Indonesia             Indonesian CPI (Badan Pusat Statistik)   \n",
       "22             Ireland  Irish CPI (Ireland - Central Statistics Office...   \n",
       "23              Israel  Israeli CPI (Israel - Central Bureau of Statis...   \n",
       "24               India  Indian CPI (Ministry of Statistics and Program...   \n",
       "25             Iceland                   Iceland CPI (Statistics Iceland)   \n",
       "26               Italy     Italian CPI (Istituto Nazionale di Statistica)   \n",
       "27               Japan                Japan CPI (Japan Statistics Bureau)   \n",
       "28               Kenya  CPI in Kenya (Kenya National Bureau of Statist...   \n",
       "29         South Korea                 South Korea CPI (Statistics Korea)   \n",
       "30          Luxembourg  Luxembourg CPI (Luxembourg - Service Central d...   \n",
       "31              Mexico  Mexican CPI (Instituto Nacional de Estadistics...   \n",
       "32            Malaysia  Malaysia CPI (Department of Statistics, Malaysia)   \n",
       "33         Netherlands  Dutch CPI (The Netherlands - Centraal Bureau v...   \n",
       "34              Norway         Norvegian CPI (Norway - Statistics Norway)   \n",
       "35         New Zealand                         New Zealand CPI (Stats NZ)   \n",
       "36              Poland  Polish CPI (Poland - Central Statistical Offic...   \n",
       "37            Portugal  Portuguese CPI (Portugal - Instituto Nacional ...   \n",
       "38  Russian Federation  Russian CPI (Russian Federal State Statistics ...   \n",
       "39              Sweden              Swedish CPI (Statistics Sweden (SCB))   \n",
       "40            Slovakia  Slovak CPI (Slovakia - Statistical Office of t...   \n",
       "41            Slovenia  Slovenian CPI (Slovenia - Statistical Office o...   \n",
       "42            Thailand      TH CPI (Bureau of Trade and Economic indices)   \n",
       "43             Tunisia  CPI in Tunisia (Institut National des Statisti...   \n",
       "44              Turkey  Turkish CPI (Turkey - Turkish Statistical Inst...   \n",
       "45  Great Britain - UK      UK CPI (Office for National Statistics (ONS))   \n",
       "46       United States                US CPI (Bureau of Labor Statistics)   \n",
       "47        South Africa        South African CPI (Statistics South Africa)   \n",
       "48               China                                 Chinese CPI (OECD)   \n",
       "\n",
       "                           currency           from  End Date:  \\\n",
       "0                ARS-Argentine peso      1/31/2003  3/31/2023   \n",
       "1             ATS-Austrian shilling     12/31/1958  3/31/2023   \n",
       "2             AUD-Australian dollar      9/30/1948  3/31/2023   \n",
       "3                 BEF-Belgian franc     12/31/1955  4/30/2023   \n",
       "4                BRL-Brazilian real      1/31/1985  3/31/2023   \n",
       "5               CAD-Canadian dollar      1/31/1989  3/31/2023   \n",
       "6                   CHF-Swiss franc      1/31/1983  3/31/2023   \n",
       "7                  CLP-Chilean peso     12/31/1970  3/31/2023   \n",
       "8               MAD-Moroccan dirham     11/30/2008  3/31/2023   \n",
       "9                  CZK-Czech koruna     12/31/1991  3/31/2023   \n",
       "10         DEM-German Deutsche mark      1/31/1991  3/31/2023   \n",
       "11                 DKK-Danish krone     12/31/1967  3/31/2023   \n",
       "12               DZD-Algerian dinar      6/30/1969  2/28/2023   \n",
       "13               EEK-Estonian kroon     12/31/1998  3/31/2023   \n",
       "14               EGP-Egyptian pound     12/31/1959  3/31/2023   \n",
       "15               ESP-Spanish peseta     12/31/1955  3/31/2023   \n",
       "16                         EUR-Euro      1/31/1990  3/31/2023   \n",
       "17               FIM-Finnish markka     12/31/1955  3/31/2023   \n",
       "18                 FRF-French franc      1/31/2001  3/31/2023   \n",
       "19                GRD-Greek drachma     12/31/1955  3/31/2023   \n",
       "20             HUF-Hungarian forint     12/31/1980  3/31/2023   \n",
       "21            IDR-Indonesian rupiah      1/31/1968  3/31/2023   \n",
       "22                   IEP-Irish punt     12/31/1976  3/31/2023   \n",
       "23           ILS-Israeli new shekel     12/31/1970  3/31/2023   \n",
       "24                 INR-Indian rupee      1/31/1957  3/31/2023   \n",
       "25              ISK-Icelandic króna     12/31/1975  3/31/2023   \n",
       "26                 ITL-Italian lira  17 March 1861  3/31/2023   \n",
       "27                 JPY-Japanese yen      1/31/1970  3/31/2023   \n",
       "28              KES-Kenyan shilling     12/31/1961  3/31/2023   \n",
       "29             KRW-South Korean won      1/31/1952  4/30/2023   \n",
       "30             LUF-Luxembourg franc     12/31/1955  3/31/2023   \n",
       "31                 MXN-Mexican peso      1/31/1969  3/31/2023   \n",
       "32            MYR-Malaysian ringgit      6/30/1980  3/31/2023   \n",
       "33          NLG-Netherlands guilder     12/31/1961  3/31/2023   \n",
       "34              NOK-Norwegian krone     12/31/1955  3/31/2023   \n",
       "35           NZD-New Zealand dollar      3/31/2000  3/31/2023   \n",
       "36                 PLN-Polish zloty     12/31/1989  3/31/2023   \n",
       "37             PTE-Portguese escudo     12/31/1955  3/31/2023   \n",
       "38                RUB-Russian ruble      1/31/1992  3/31/2023   \n",
       "39                SEK-Swedish krona      1/31/1955  3/31/2023   \n",
       "40                SKK-Slovak koruna     12/31/1991  3/31/2023   \n",
       "41              SIT-Slovenian tolar     12/31/1980  3/31/2023   \n",
       "42                    THB-Thai baht      1/31/1976  3/31/2023   \n",
       "43               TND-Tunisian dinar     12/31/1983  3/31/2023   \n",
       "44                 TRY-Turkish lira     12/31/1955  3/31/2023   \n",
       "45               GBP-Pound sterling   30 June 1688  3/31/2023   \n",
       "46                    USD-US dollar      1/31/2013  3/31/2023   \n",
       "47           ZAR-South African rand      1/31/1957  3/31/2023   \n",
       "48  CNY-Chinese yuan renminbi (RMB)      1/31/1993  3/31/2023   \n",
       "\n",
       "    1 year variation in %  1 month variation in %  \n",
       "0                    1.04                    0.08  \n",
       "1                    0.09                    0.01  \n",
       "2                    0.07                    0.00  \n",
       "3                    0.06                   -0.01  \n",
       "4                    0.05                    0.01  \n",
       "5                    0.04                    0.01  \n",
       "6                    0.03                    0.00  \n",
       "7                    0.11                    0.01  \n",
       "8                    0.09                    0.00  \n",
       "9                    0.15                    0.00  \n",
       "10                   0.07                    0.01  \n",
       "11                   0.07                    0.00  \n",
       "12                   0.10                    0.01  \n",
       "13                   0.18                    0.01  \n",
       "14                   0.33                    0.03  \n",
       "15                   0.03                    0.00  \n",
       "16                   0.07                    0.01  \n",
       "17                   0.08                    0.01  \n",
       "18                   0.06                    0.01  \n",
       "19                   0.05                    0.01  \n",
       "20                   0.25                    0.01  \n",
       "21                   0.05                    0.00  \n",
       "22                   0.08                    0.01  \n",
       "23                   0.05                    0.00  \n",
       "24                   0.06                    0.00  \n",
       "25                   0.10                    0.01  \n",
       "26                   0.08                    0.00  \n",
       "27                   0.03                    0.00  \n",
       "28                   0.09                    0.01  \n",
       "29                   0.04                    0.00  \n",
       "30                   0.04                    0.00  \n",
       "31                   0.07                    0.00  \n",
       "32                   0.03                    0.00  \n",
       "33                   0.04                    0.00  \n",
       "34                   0.07                    0.01  \n",
       "35                   0.07                    0.00  \n",
       "36                   0.17                    0.01  \n",
       "37                   0.07                    0.02  \n",
       "38                   0.04                    0.00  \n",
       "39                   0.11                    0.01  \n",
       "40                   0.15                    0.01  \n",
       "41                   0.11                    0.00  \n",
       "42                   0.03                    0.00  \n",
       "43                   0.10                    0.01  \n",
       "44                   0.51                    0.02  \n",
       "45                   0.09                    0.01  \n",
       "46                   0.05                    0.00  \n",
       "47                   0.07                    0.01  \n",
       "48                   0.01                    0.00  "
      ]
     },
     "execution_count": 78,
     "metadata": {},
     "output_type": "execute_result"
    }
   ],
   "source": [
    "df"
   ]
  },
  {
   "cell_type": "markdown",
   "id": "43aec8c3",
   "metadata": {},
   "source": [
    "## Observe coorlation between columns\n"
   ]
  },
  {
   "cell_type": "code",
   "execution_count": 79,
   "id": "57b69f3f",
   "metadata": {
    "scrolled": true
   },
   "outputs": [
    {
     "data": {
      "text/html": [
       "<div>\n",
       "<style scoped>\n",
       "    .dataframe tbody tr th:only-of-type {\n",
       "        vertical-align: middle;\n",
       "    }\n",
       "\n",
       "    .dataframe tbody tr th {\n",
       "        vertical-align: top;\n",
       "    }\n",
       "\n",
       "    .dataframe thead th {\n",
       "        text-align: right;\n",
       "    }\n",
       "</style>\n",
       "<table border=\"1\" class=\"dataframe\">\n",
       "  <thead>\n",
       "    <tr style=\"text-align: right;\">\n",
       "      <th></th>\n",
       "      <th>1 year variation in %</th>\n",
       "      <th>1 month variation in %</th>\n",
       "    </tr>\n",
       "  </thead>\n",
       "  <tbody>\n",
       "    <tr>\n",
       "      <th>1 year variation in %</th>\n",
       "      <td>1.000000</td>\n",
       "      <td>0.885821</td>\n",
       "    </tr>\n",
       "    <tr>\n",
       "      <th>1 month variation in %</th>\n",
       "      <td>0.885821</td>\n",
       "      <td>1.000000</td>\n",
       "    </tr>\n",
       "  </tbody>\n",
       "</table>\n",
       "</div>"
      ],
      "text/plain": [
       "                        1 year variation in %  1 month variation in %\n",
       "1 year variation in %                1.000000                0.885821\n",
       "1 month variation in %               0.885821                1.000000"
      ]
     },
     "execution_count": 79,
     "metadata": {},
     "output_type": "execute_result"
    }
   ],
   "source": [
    "df.corr()"
   ]
  },
  {
   "cell_type": "code",
   "execution_count": 80,
   "id": "4cce2c88",
   "metadata": {
    "scrolled": true
   },
   "outputs": [],
   "source": [
    "#plt.figure(figsize=(8,2))\n",
    "#sns.heatmap(df.corr(),annot = True, linewidths=.5)  # variables are high not correlated to each other"
   ]
  },
  {
   "cell_type": "code",
   "execution_count": 81,
   "id": "92306a33",
   "metadata": {},
   "outputs": [
    {
     "name": "stdout",
     "output_type": "stream",
     "text": [
      "<class 'pandas.core.frame.DataFrame'>\n",
      "RangeIndex: 49 entries, 0 to 48\n",
      "Data columns (total 7 columns):\n",
      " #   Column                  Non-Null Count  Dtype  \n",
      "---  ------                  --------------  -----  \n",
      " 0   country                 49 non-null     object \n",
      " 1   Consumer Price Index    49 non-null     object \n",
      " 2   currency                49 non-null     object \n",
      " 3   from                    49 non-null     object \n",
      " 4   End Date:               49 non-null     object \n",
      " 5   1 year variation in %   49 non-null     float64\n",
      " 6   1 month variation in %  49 non-null     float64\n",
      "dtypes: float64(2), object(5)\n",
      "memory usage: 2.8+ KB\n"
     ]
    }
   ],
   "source": [
    "df.info()"
   ]
  },
  {
   "cell_type": "code",
   "execution_count": 82,
   "id": "7db171cb",
   "metadata": {},
   "outputs": [],
   "source": [
    "# Convert 'from' and 'End Date:' columns to datetime format\n",
    "df['from'] = pd.to_datetime(df['from'])\n",
    "df['End Date:'] = pd.to_datetime(df['End Date:'])"
   ]
  },
  {
   "cell_type": "code",
   "execution_count": 83,
   "id": "ea5902d8",
   "metadata": {
    "scrolled": true
   },
   "outputs": [
    {
     "data": {
      "text/html": [
       "<div>\n",
       "<style scoped>\n",
       "    .dataframe tbody tr th:only-of-type {\n",
       "        vertical-align: middle;\n",
       "    }\n",
       "\n",
       "    .dataframe tbody tr th {\n",
       "        vertical-align: top;\n",
       "    }\n",
       "\n",
       "    .dataframe thead th {\n",
       "        text-align: right;\n",
       "    }\n",
       "</style>\n",
       "<table border=\"1\" class=\"dataframe\">\n",
       "  <thead>\n",
       "    <tr style=\"text-align: right;\">\n",
       "      <th></th>\n",
       "      <th>country</th>\n",
       "      <th>Consumer Price Index</th>\n",
       "      <th>currency</th>\n",
       "      <th>from</th>\n",
       "      <th>End Date:</th>\n",
       "      <th>1 year variation in %</th>\n",
       "      <th>1 month variation in %</th>\n",
       "    </tr>\n",
       "  </thead>\n",
       "  <tbody>\n",
       "    <tr>\n",
       "      <th>0</th>\n",
       "      <td>Argentina</td>\n",
       "      <td>Argentina CPI (Indec)</td>\n",
       "      <td>ARS-Argentine peso</td>\n",
       "      <td>2003-01-31</td>\n",
       "      <td>2023-03-31</td>\n",
       "      <td>1.04</td>\n",
       "      <td>0.08</td>\n",
       "    </tr>\n",
       "    <tr>\n",
       "      <th>1</th>\n",
       "      <td>Austria</td>\n",
       "      <td>Austrian CPI (Statistik Austria (Vienna))</td>\n",
       "      <td>ATS-Austrian shilling</td>\n",
       "      <td>1958-12-31</td>\n",
       "      <td>2023-03-31</td>\n",
       "      <td>0.09</td>\n",
       "      <td>0.01</td>\n",
       "    </tr>\n",
       "    <tr>\n",
       "      <th>2</th>\n",
       "      <td>Australia</td>\n",
       "      <td>Australian CPI (ABS)</td>\n",
       "      <td>AUD-Australian dollar</td>\n",
       "      <td>1948-09-30</td>\n",
       "      <td>2023-03-31</td>\n",
       "      <td>0.07</td>\n",
       "      <td>0.00</td>\n",
       "    </tr>\n",
       "    <tr>\n",
       "      <th>3</th>\n",
       "      <td>Belgium</td>\n",
       "      <td>Belgian CPI (Directorate-general Statistics an...</td>\n",
       "      <td>BEF-Belgian franc</td>\n",
       "      <td>1955-12-31</td>\n",
       "      <td>2023-04-30</td>\n",
       "      <td>0.06</td>\n",
       "      <td>-0.01</td>\n",
       "    </tr>\n",
       "    <tr>\n",
       "      <th>4</th>\n",
       "      <td>Brazil</td>\n",
       "      <td>Brazilian CPI (Instituto Brasileiro de Geograf...</td>\n",
       "      <td>BRL-Brazilian real</td>\n",
       "      <td>1985-01-31</td>\n",
       "      <td>2023-03-31</td>\n",
       "      <td>0.05</td>\n",
       "      <td>0.01</td>\n",
       "    </tr>\n",
       "  </tbody>\n",
       "</table>\n",
       "</div>"
      ],
      "text/plain": [
       "     country                               Consumer Price Index  \\\n",
       "0  Argentina                              Argentina CPI (Indec)   \n",
       "1    Austria          Austrian CPI (Statistik Austria (Vienna))   \n",
       "2  Australia                               Australian CPI (ABS)   \n",
       "3    Belgium  Belgian CPI (Directorate-general Statistics an...   \n",
       "4     Brazil  Brazilian CPI (Instituto Brasileiro de Geograf...   \n",
       "\n",
       "                currency       from  End Date:  1 year variation in %  \\\n",
       "0     ARS-Argentine peso 2003-01-31 2023-03-31                   1.04   \n",
       "1  ATS-Austrian shilling 1958-12-31 2023-03-31                   0.09   \n",
       "2  AUD-Australian dollar 1948-09-30 2023-03-31                   0.07   \n",
       "3      BEF-Belgian franc 1955-12-31 2023-04-30                   0.06   \n",
       "4     BRL-Brazilian real 1985-01-31 2023-03-31                   0.05   \n",
       "\n",
       "   1 month variation in %  \n",
       "0                    0.08  \n",
       "1                    0.01  \n",
       "2                    0.00  \n",
       "3                   -0.01  \n",
       "4                    0.01  "
      ]
     },
     "execution_count": 83,
     "metadata": {},
     "output_type": "execute_result"
    }
   ],
   "source": [
    "df.head()"
   ]
  },
  {
   "cell_type": "code",
   "execution_count": 84,
   "id": "132a3429",
   "metadata": {},
   "outputs": [
    {
     "data": {
      "text/html": [
       "<div>\n",
       "<style scoped>\n",
       "    .dataframe tbody tr th:only-of-type {\n",
       "        vertical-align: middle;\n",
       "    }\n",
       "\n",
       "    .dataframe tbody tr th {\n",
       "        vertical-align: top;\n",
       "    }\n",
       "\n",
       "    .dataframe thead th {\n",
       "        text-align: right;\n",
       "    }\n",
       "</style>\n",
       "<table border=\"1\" class=\"dataframe\">\n",
       "  <thead>\n",
       "    <tr style=\"text-align: right;\">\n",
       "      <th></th>\n",
       "      <th>1 year variation in %</th>\n",
       "      <th>1 month variation in %</th>\n",
       "    </tr>\n",
       "  </thead>\n",
       "  <tbody>\n",
       "    <tr>\n",
       "      <th>count</th>\n",
       "      <td>49.000000</td>\n",
       "      <td>49.000000</td>\n",
       "    </tr>\n",
       "    <tr>\n",
       "      <th>mean</th>\n",
       "      <td>0.110816</td>\n",
       "      <td>0.007347</td>\n",
       "    </tr>\n",
       "    <tr>\n",
       "      <th>std</th>\n",
       "      <td>0.159136</td>\n",
       "      <td>0.012711</td>\n",
       "    </tr>\n",
       "    <tr>\n",
       "      <th>min</th>\n",
       "      <td>0.010000</td>\n",
       "      <td>-0.010000</td>\n",
       "    </tr>\n",
       "    <tr>\n",
       "      <th>25%</th>\n",
       "      <td>0.050000</td>\n",
       "      <td>0.000000</td>\n",
       "    </tr>\n",
       "    <tr>\n",
       "      <th>50%</th>\n",
       "      <td>0.070000</td>\n",
       "      <td>0.010000</td>\n",
       "    </tr>\n",
       "    <tr>\n",
       "      <th>75%</th>\n",
       "      <td>0.100000</td>\n",
       "      <td>0.010000</td>\n",
       "    </tr>\n",
       "    <tr>\n",
       "      <th>max</th>\n",
       "      <td>1.040000</td>\n",
       "      <td>0.080000</td>\n",
       "    </tr>\n",
       "  </tbody>\n",
       "</table>\n",
       "</div>"
      ],
      "text/plain": [
       "       1 year variation in %  1 month variation in %\n",
       "count              49.000000               49.000000\n",
       "mean                0.110816                0.007347\n",
       "std                 0.159136                0.012711\n",
       "min                 0.010000               -0.010000\n",
       "25%                 0.050000                0.000000\n",
       "50%                 0.070000                0.010000\n",
       "75%                 0.100000                0.010000\n",
       "max                 1.040000                0.080000"
      ]
     },
     "execution_count": 84,
     "metadata": {},
     "output_type": "execute_result"
    }
   ],
   "source": [
    "df.describe()"
   ]
  },
  {
   "cell_type": "code",
   "execution_count": 85,
   "id": "682f2f7b",
   "metadata": {},
   "outputs": [],
   "source": [
    "#df.columns"
   ]
  },
  {
   "cell_type": "code",
   "execution_count": 86,
   "id": "b88c9968",
   "metadata": {
    "scrolled": false
   },
   "outputs": [],
   "source": [
    "#df.boxplot()"
   ]
  },
  {
   "cell_type": "code",
   "execution_count": 87,
   "id": "c989e43b",
   "metadata": {},
   "outputs": [
    {
     "data": {
      "text/plain": [
       "1 year variation in %    0.110816\n",
       "dtype: float64"
      ]
     },
     "execution_count": 87,
     "metadata": {},
     "output_type": "execute_result"
    }
   ],
   "source": [
    "df.loc[:, ['1 year variation in %']].mean()"
   ]
  },
  {
   "cell_type": "code",
   "execution_count": 88,
   "id": "eacd40ea",
   "metadata": {
    "scrolled": true
   },
   "outputs": [
    {
     "data": {
      "text/html": [
       "<div>\n",
       "<style scoped>\n",
       "    .dataframe tbody tr th:only-of-type {\n",
       "        vertical-align: middle;\n",
       "    }\n",
       "\n",
       "    .dataframe tbody tr th {\n",
       "        vertical-align: top;\n",
       "    }\n",
       "\n",
       "    .dataframe thead th {\n",
       "        text-align: right;\n",
       "    }\n",
       "</style>\n",
       "<table border=\"1\" class=\"dataframe\">\n",
       "  <thead>\n",
       "    <tr style=\"text-align: right;\">\n",
       "      <th></th>\n",
       "      <th>1 year variation in %</th>\n",
       "      <th>1 month variation in %</th>\n",
       "    </tr>\n",
       "  </thead>\n",
       "  <tbody>\n",
       "    <tr>\n",
       "      <th>1 year variation in %</th>\n",
       "      <td>1.000000</td>\n",
       "      <td>0.885821</td>\n",
       "    </tr>\n",
       "    <tr>\n",
       "      <th>1 month variation in %</th>\n",
       "      <td>0.885821</td>\n",
       "      <td>1.000000</td>\n",
       "    </tr>\n",
       "  </tbody>\n",
       "</table>\n",
       "</div>"
      ],
      "text/plain": [
       "                        1 year variation in %  1 month variation in %\n",
       "1 year variation in %                1.000000                0.885821\n",
       "1 month variation in %               0.885821                1.000000"
      ]
     },
     "execution_count": 88,
     "metadata": {},
     "output_type": "execute_result"
    }
   ],
   "source": [
    "df.corr()"
   ]
  },
  {
   "cell_type": "code",
   "execution_count": 89,
   "id": "657c11a9",
   "metadata": {
    "scrolled": true
   },
   "outputs": [],
   "source": [
    "#Boxplot for Month by Weekly Sales: (Outliers obviously shown at October,November and December)\n",
    "#fig=px.box(df,x=df['1 year variation in %'],y=df['Consumer Price Index'])\n",
    "#fig.show()"
   ]
  },
  {
   "cell_type": "markdown",
   "id": "dc3b3c3b",
   "metadata": {},
   "source": [
    "## Removing column due to high correlation\n"
   ]
  },
  {
   "cell_type": "code",
   "execution_count": 90,
   "id": "d1c3424b",
   "metadata": {},
   "outputs": [],
   "source": [
    "df.drop(['1 month variation in %'],axis=1,inplace=True)"
   ]
  },
  {
   "cell_type": "code",
   "execution_count": 91,
   "id": "b6728196",
   "metadata": {},
   "outputs": [],
   "source": [
    "#df"
   ]
  },
  {
   "cell_type": "markdown",
   "id": "ff54a03a",
   "metadata": {},
   "source": [
    "## Encoding Data"
   ]
  },
  {
   "cell_type": "code",
   "execution_count": 92,
   "id": "19114a24",
   "metadata": {},
   "outputs": [],
   "source": [
    "import pandas as pd\n",
    "from sklearn.linear_model import LinearRegression\n",
    "from sklearn.preprocessing import LabelEncoder, StandardScaler"
   ]
  },
  {
   "cell_type": "code",
   "execution_count": 93,
   "id": "aea56c69",
   "metadata": {
    "scrolled": true
   },
   "outputs": [],
   "source": [
    "# Convert categorical variables into numerical format using label encoding\n",
    "from sklearn.preprocessing import OrdinalEncoder\n",
    "oe = OrdinalEncoder()\n",
    "cols_to_encode = ['country', 'Consumer Price Index', 'currency', 'from', 'End Date:', '1 year variation in %']\n",
    "df[cols_to_encode] = oe.fit_transform(df[cols_to_encode])"
   ]
  },
  {
   "cell_type": "code",
   "execution_count": 94,
   "id": "748b83ee",
   "metadata": {
    "scrolled": true
   },
   "outputs": [],
   "source": [
    "#df"
   ]
  },
  {
   "cell_type": "code",
   "execution_count": 95,
   "id": "e112c6e6",
   "metadata": {},
   "outputs": [
    {
     "data": {
      "text/plain": [
       "Index(['country', 'Consumer Price Index', 'currency', 'from', 'End Date:',\n",
       "       '1 year variation in %'],\n",
       "      dtype='object')"
      ]
     },
     "execution_count": 95,
     "metadata": {},
     "output_type": "execute_result"
    }
   ],
   "source": [
    "df.columns"
   ]
  },
  {
   "cell_type": "markdown",
   "id": "64b1d509",
   "metadata": {},
   "source": [
    "## Scaling"
   ]
  },
  {
   "cell_type": "code",
   "execution_count": 96,
   "id": "8ceb49de",
   "metadata": {},
   "outputs": [],
   "source": [
    "from sklearn.preprocessing import MinMaxScaler\n",
    "Scale = MinMaxScaler()\n",
    "df[['country','currency','from','End Date:','Consumer Price Index']]=Scale.fit_transform(df[['country','currency','from','End Date:','Consumer Price Index']])"
   ]
  },
  {
   "cell_type": "code",
   "execution_count": 97,
   "id": "dc7ee38e",
   "metadata": {},
   "outputs": [],
   "source": [
    "#df"
   ]
  },
  {
   "cell_type": "markdown",
   "id": "94a3f9df",
   "metadata": {},
   "source": [
    "## specify x and y"
   ]
  },
  {
   "cell_type": "code",
   "execution_count": 98,
   "id": "7b5e1cf8",
   "metadata": {},
   "outputs": [],
   "source": [
    "y = df.iloc[::,-1]\n",
    "#y"
   ]
  },
  {
   "cell_type": "code",
   "execution_count": 99,
   "id": "b17f6a68",
   "metadata": {},
   "outputs": [],
   "source": [
    "#Drop the target y\n",
    "df.drop(['1 year variation in %'],axis=1,inplace=True)  \n",
    "#df"
   ]
  },
  {
   "cell_type": "code",
   "execution_count": 100,
   "id": "4d4f16ba",
   "metadata": {},
   "outputs": [
    {
     "data": {
      "text/plain": [
       "Index(['country', 'Consumer Price Index', 'currency', 'from', 'End Date:'], dtype='object')"
      ]
     },
     "execution_count": 100,
     "metadata": {},
     "output_type": "execute_result"
    }
   ],
   "source": [
    "df.columns"
   ]
  },
  {
   "cell_type": "code",
   "execution_count": 101,
   "id": "a630b73d",
   "metadata": {},
   "outputs": [
    {
     "data": {
      "text/plain": [
       "(49, 5)"
      ]
     },
     "execution_count": 101,
     "metadata": {},
     "output_type": "execute_result"
    }
   ],
   "source": [
    "X = df.iloc[:,:]\n",
    "X.shape"
   ]
  },
  {
   "cell_type": "code",
   "execution_count": 102,
   "id": "9b5edbcf",
   "metadata": {
    "scrolled": true
   },
   "outputs": [
    {
     "data": {
      "text/html": [
       "<div>\n",
       "<style scoped>\n",
       "    .dataframe tbody tr th:only-of-type {\n",
       "        vertical-align: middle;\n",
       "    }\n",
       "\n",
       "    .dataframe tbody tr th {\n",
       "        vertical-align: top;\n",
       "    }\n",
       "\n",
       "    .dataframe thead th {\n",
       "        text-align: right;\n",
       "    }\n",
       "</style>\n",
       "<table border=\"1\" class=\"dataframe\">\n",
       "  <thead>\n",
       "    <tr style=\"text-align: right;\">\n",
       "      <th></th>\n",
       "      <th>country</th>\n",
       "      <th>Consumer Price Index</th>\n",
       "      <th>currency</th>\n",
       "      <th>from</th>\n",
       "      <th>End Date:</th>\n",
       "    </tr>\n",
       "  </thead>\n",
       "  <tbody>\n",
       "    <tr>\n",
       "      <th>country</th>\n",
       "      <td>1.000000</td>\n",
       "      <td>0.785510</td>\n",
       "      <td>0.857041</td>\n",
       "      <td>-0.036837</td>\n",
       "      <td>0.122893</td>\n",
       "    </tr>\n",
       "    <tr>\n",
       "      <th>Consumer Price Index</th>\n",
       "      <td>0.785510</td>\n",
       "      <td>1.000000</td>\n",
       "      <td>0.665918</td>\n",
       "      <td>-0.060082</td>\n",
       "      <td>0.081929</td>\n",
       "    </tr>\n",
       "    <tr>\n",
       "      <th>currency</th>\n",
       "      <td>0.857041</td>\n",
       "      <td>0.665918</td>\n",
       "      <td>1.000000</td>\n",
       "      <td>-0.025147</td>\n",
       "      <td>-0.017556</td>\n",
       "    </tr>\n",
       "    <tr>\n",
       "      <th>from</th>\n",
       "      <td>-0.036837</td>\n",
       "      <td>-0.060082</td>\n",
       "      <td>-0.025147</td>\n",
       "      <td>1.000000</td>\n",
       "      <td>-0.162914</td>\n",
       "    </tr>\n",
       "    <tr>\n",
       "      <th>End Date:</th>\n",
       "      <td>0.122893</td>\n",
       "      <td>0.081929</td>\n",
       "      <td>-0.017556</td>\n",
       "      <td>-0.162914</td>\n",
       "      <td>1.000000</td>\n",
       "    </tr>\n",
       "  </tbody>\n",
       "</table>\n",
       "</div>"
      ],
      "text/plain": [
       "                       country  Consumer Price Index  currency      from  \\\n",
       "country               1.000000              0.785510  0.857041 -0.036837   \n",
       "Consumer Price Index  0.785510              1.000000  0.665918 -0.060082   \n",
       "currency              0.857041              0.665918  1.000000 -0.025147   \n",
       "from                 -0.036837             -0.060082 -0.025147  1.000000   \n",
       "End Date:             0.122893              0.081929 -0.017556 -0.162914   \n",
       "\n",
       "                      End Date:  \n",
       "country                0.122893  \n",
       "Consumer Price Index   0.081929  \n",
       "currency              -0.017556  \n",
       "from                  -0.162914  \n",
       "End Date:              1.000000  "
      ]
     },
     "execution_count": 102,
     "metadata": {},
     "output_type": "execute_result"
    }
   ],
   "source": [
    "df.corr()"
   ]
  },
  {
   "cell_type": "markdown",
   "id": "4d38e93b",
   "metadata": {},
   "source": [
    "# Build Model\n"
   ]
  },
  {
   "cell_type": "code",
   "execution_count": 103,
   "id": "b77035df",
   "metadata": {},
   "outputs": [],
   "source": [
    "# Split data into train and test sets\n",
    "from sklearn.model_selection import train_test_split\n",
    "X_train, X_test, y_train, y_test = train_test_split(X, y, test_size=2, random_state=48)"
   ]
  },
  {
   "cell_type": "markdown",
   "id": "915de849",
   "metadata": {},
   "source": [
    "## fitting model to trainig"
   ]
  },
  {
   "cell_type": "code",
   "execution_count": 104,
   "id": "a9cfa8c8",
   "metadata": {
    "scrolled": true
   },
   "outputs": [
    {
     "data": {
      "text/plain": [
       "LinearRegression()"
      ]
     },
     "execution_count": 104,
     "metadata": {},
     "output_type": "execute_result"
    }
   ],
   "source": [
    "from sklearn.linear_model import LinearRegression\n",
    "lin_reg = LinearRegression()\n",
    "lr_model = LinearRegression()\n",
    "lr_model.fit(X_train, y_train)"
   ]
  },
  {
   "cell_type": "code",
   "execution_count": 105,
   "id": "d9000941",
   "metadata": {},
   "outputs": [
    {
     "name": "stdout",
     "output_type": "stream",
     "text": [
      "Linear Regression Train Score is : 0.09880986878508546\n",
      "Linear Regression Test Score is : 0.8622579638039235\n"
     ]
    }
   ],
   "source": [
    "print('Linear Regression Train Score is :' ,lr_model.score(X_train,y_train))\n",
    "print('Linear Regression Test Score is :' , lr_model.score(X_test,y_test))"
   ]
  },
  {
   "cell_type": "markdown",
   "id": "6205973a",
   "metadata": {},
   "source": [
    "## predict the test dataset\n"
   ]
  },
  {
   "cell_type": "code",
   "execution_count": 106,
   "id": "427ad98c",
   "metadata": {},
   "outputs": [],
   "source": [
    "y_pred =lr_model.predict( X_test)"
   ]
  },
  {
   "cell_type": "code",
   "execution_count": 107,
   "id": "3cfc5ed1",
   "metadata": {},
   "outputs": [
    {
     "name": "stdout",
     "output_type": "stream",
     "text": [
      "[-8.29648511  2.17529339  5.39923277  1.0955094  -2.21997453]\n"
     ]
    }
   ],
   "source": [
    "#coofficient \n",
    "print(lr_model.coef_)"
   ]
  },
  {
   "cell_type": "code",
   "execution_count": 108,
   "id": "22ad50bd",
   "metadata": {},
   "outputs": [
    {
     "name": "stdout",
     "output_type": "stream",
     "text": [
      "6.825473932060281\n"
     ]
    }
   ],
   "source": [
    "#intercept\n",
    "print(lr_model.intercept_)"
   ]
  },
  {
   "cell_type": "markdown",
   "id": "f28bd567",
   "metadata": {},
   "source": [
    "## evaluating model"
   ]
  },
  {
   "cell_type": "code",
   "execution_count": 109,
   "id": "195240ca",
   "metadata": {},
   "outputs": [
    {
     "name": "stdout",
     "output_type": "stream",
     "text": [
      "Mean Absolute Error Value is :  0.5564517457417568\n"
     ]
    }
   ],
   "source": [
    "#Calculating Mean Absolute Error\n",
    "MAEValue = mean_absolute_error(y_test, y_pred, multioutput='uniform_average') \n",
    "print('Mean Absolute Error Value is : ', MAEValue)"
   ]
  },
  {
   "cell_type": "code",
   "execution_count": 110,
   "id": "58bed61e",
   "metadata": {},
   "outputs": [
    {
     "name": "stdout",
     "output_type": "stream",
     "text": [
      "Mean Squared Error Value is :  0.30991958144117204\n"
     ]
    }
   ],
   "source": [
    "#Calculating Mean Squared Error\n",
    "MSEValue = mean_squared_error(y_test, y_pred, multioutput='uniform_average') \n",
    "print('Mean Squared Error Value is : ', MSEValue)"
   ]
  },
  {
   "cell_type": "code",
   "execution_count": 111,
   "id": "85b82524",
   "metadata": {},
   "outputs": [
    {
     "name": "stdout",
     "output_type": "stream",
     "text": [
      "Median Absolute Error Value is :  0.5564517457417568\n"
     ]
    }
   ],
   "source": [
    "#Calculating Median Absolute Error\n",
    "MdSEValue = median_absolute_error(y_test, y_pred)\n",
    "print('Median Absolute Error Value is : ', MdSEValue )"
   ]
  },
  {
   "cell_type": "code",
   "execution_count": 112,
   "id": "159bd098",
   "metadata": {},
   "outputs": [
    {
     "data": {
      "text/plain": [
       "0.8622579638039235"
      ]
     },
     "execution_count": 112,
     "metadata": {},
     "output_type": "execute_result"
    }
   ],
   "source": [
    "from sklearn.metrics import r2_score\n",
    "r2_score(y_test,y_pred)"
   ]
  },
  {
   "cell_type": "code",
   "execution_count": 113,
   "id": "2282f4bf",
   "metadata": {},
   "outputs": [],
   "source": [
    "R2_accurecy = r2_score(y_test,y_pred)"
   ]
  },
  {
   "cell_type": "code",
   "execution_count": 123,
   "id": "ebae3d61",
   "metadata": {},
   "outputs": [
    {
     "name": "stdout",
     "output_type": "stream",
     "text": [
      "86.23\n"
     ]
    }
   ],
   "source": [
    "print(np.round (R2_accurecy*100,2))"
   ]
  },
  {
   "cell_type": "code",
   "execution_count": null,
   "id": "a4a7f88a",
   "metadata": {},
   "outputs": [],
   "source": [
    "#Hazem Adel Elbatawy"
   ]
  },
  {
   "cell_type": "code",
   "execution_count": null,
   "id": "3d4c775c",
   "metadata": {},
   "outputs": [],
   "source": [
    "\"\"\"It's difficult to say whether these scores are good or bad for the model without knowing more about the specific \n",
    "problem and the scale of the target variable. However, in general:\n",
    "\n",
    "- A lower Mean Absolute Error (MAE) value indicates better predictive performance of the model. \n",
    "The MAE value you obtained is 0.556, which means that on average, the model's predictions are off\n",
    "by 0.556 units from the actual values.\n",
    "\n",
    "- A lower Mean Squared Error (MSE) value also indicates better predictive performance of the model.\n",
    " The MSE value you obtained is 0.3099, which means that the model's predictions have less variance from the actual values.\n",
    "\n",
    "- A lower Median Absolute Error (MdAE) value indicates better predictive performance of the model. \n",
    "  The MdAE value you obtained is 0.556, which means that the median prediction error of the model is 0.556 units.\n",
    "\n",
    "- An R-squared (R2) score of 0.8622 indicates that the model explains 86.22% of the variability in the target variable \n",
    " around its mean. This is a good score, but it's important to note that R2 score alone should not be used to evaluate the\n",
    " model's performance.\n",
    "\n",
    "Overall, these scores suggest that the model has some predictive power, but it's important to compare these scores \n",
    "with the performance of other models or with a baseline performance to get a sense of how well your model is performing.\"\"\"\n",
    "\"\""
   ]
  },
  {
   "cell_type": "code",
   "execution_count": null,
   "id": "b2e37107",
   "metadata": {},
   "outputs": [],
   "source": []
  },
  {
   "cell_type": "code",
   "execution_count": null,
   "id": "66159a58",
   "metadata": {},
   "outputs": [],
   "source": []
  }
 ],
 "metadata": {
  "kernelspec": {
   "display_name": "Python 3 (ipykernel)",
   "language": "python",
   "name": "python3"
  },
  "language_info": {
   "codemirror_mode": {
    "name": "ipython",
    "version": 3
   },
   "file_extension": ".py",
   "mimetype": "text/x-python",
   "name": "python",
   "nbconvert_exporter": "python",
   "pygments_lexer": "ipython3",
   "version": "3.9.13"
  }
 },
 "nbformat": 4,
 "nbformat_minor": 5
}
